{
 "cells": [
  {
   "cell_type": "markdown",
   "metadata": {},
   "source": [
    "## 控制迷宫寻宝机器人\n",
    "\n",
    "在这个项目中，你将使用刚刚学到的知识，尝试根据要求，编写代码，来控制一个机器人，在模拟环境中行走，并找到目标宝藏。\n",
    "\n",
    "机器人所在的模拟环境中，会包含这样几个因素：机器人的起点、障碍物、宝藏箱。你的任务包括：\n",
    "\n",
    "1. 分析模拟环境的数据\n",
    "2. 控制机器人随机行动\n",
    "3. （可选）控制机器人走到终点\n",
    "\n",
    "\n",
    "* 一个良好的含有注释的代码，可以让你的程序可读性更高，尝试为你自己的代码添加相应的注释。"
   ]
  },
  {
   "cell_type": "markdown",
   "metadata": {},
   "source": [
    "---\n",
    "\n",
    "---\n",
    "\n",
    "## 第一节 分析模拟环境的数据\n",
    "\n",
    "首先，只有足够了解机器人所在的环境，我们的机器人才能成功找到目标宝藏，因此首先我们来对机器人所在环境的数据进行分析。在这个部分，会考察你对数据结构、控制流的了解。\n"
   ]
  },
  {
   "cell_type": "markdown",
   "metadata": {},
   "source": [
    "### 1.1 理解模拟环境数据的储存格式\n",
    "\n",
    "首先我们思考这样的问题：如何存储模拟环境的数据呢？\n",
    "\n",
    "我们将我们的模拟环境抽象成一个格子世界，每个格子按照坐标编号进行标记；每个格子中会有四个情况，分别为普通格子（可通行）、机器人的起点（可通行）、障碍物（不可通行）、宝藏箱（目标点）。例如，一个模拟环境就可以抽象成3行4列的格子世界，并按这按这样的方法进行存储：\n",
    "```\n",
    "environment = [[0,0,0,2], \n",
    "               [1,2,0,0],\n",
    "               [0,2,3,2]]\n",
    "```\n",
    "我们用了一个列表来保存虚拟世界的数据。外层列表中的每一个元素依然是一个列表，它代表模拟环境中每行的数据。而对于这个列表中的每个元素都是一个数，它们的含义是：\n",
    "- 0: 普通格子（可通行）\n",
    "- 1: 机器人的起点（可通行）\n",
    "- 2: 障碍物（不可通行）\n",
    "- 3: 宝藏箱（目标点）\n",
    "\n",
    "那么，根据上述的数据，这个迷宫的第二行第一列，是我们机器人的起点。\n",
    "\n",
    "__注：我们描述的迷宫的坐标位置（第一行第一列），和迷宫下标索引的值（如 `(0,0)`）是不一样的，请注意下标的问题。__\n",
    "\n",
    "\n",
    "如下的代码，使用了辅助函数，读取了模拟环境的数据，并保存在了 `env_data` 变量中。\n"
   ]
  },
  {
   "cell_type": "code",
   "execution_count": 1,
   "metadata": {},
   "outputs": [
    {
     "name": "stdout",
     "output_type": "stream",
     "text": [
      "maze-id 1-1544451683\n",
      "[[3, 2, 2, 2, 2, 2, 2, 2, 1],\n",
      " [0, 0, 2, 2, 2, 2, 2, 0, 0],\n",
      " [2, 0, 0, 2, 2, 2, 0, 0, 2],\n",
      " [2, 2, 0, 0, 2, 0, 0, 2, 2],\n",
      " [2, 2, 2, 0, 0, 0, 2, 2, 2]]\n",
      "[[3, 2, 2, 2, 2, 2, 2, 2, 1], [0, 0, 2, 2, 2, 2, 2, 0, 0], [2, 0, 0, 2, 2, 2, 0, 0, 2], [2, 2, 0, 0, 2, 0, 0, 2, 2], [2, 2, 2, 0, 0, 0, 2, 2, 2]]\n"
     ]
    }
   ],
   "source": [
    "import helper\n",
    "\n",
    "env_data = helper.fetch_maze()\n",
    "print(env_data)"
   ]
  },
  {
   "cell_type": "markdown",
   "metadata": {},
   "source": [
    "---\n",
    "\n",
    "\n",
    "**任务1：**在如下代码中，请写代码获得这些值：\n",
    "\n",
    "1. 模拟环境的长和宽\n",
    "2. 模拟环境中第3行第6列元素"
   ]
  },
  {
   "cell_type": "code",
   "execution_count": 3,
   "metadata": {},
   "outputs": [
    {
     "name": "stdout",
     "output_type": "stream",
     "text": [
      "5\n",
      "迷宫共有 5 行 9 列，第三行第六列的元素是 2\n"
     ]
    }
   ],
   "source": [
    "#TODO 1模拟环境的行数\n",
    "rows = None \n",
    "rows = len(env_data)\n",
    "# print(rows)\n",
    "\n",
    "#TODO 2模拟环境的列数\n",
    "columns = None\n",
    "columns = len(env_data[0])\n",
    "\n",
    "#TODO 3取出模拟环境第三行第六列的元素\n",
    "row_3_col_6 = None\n",
    "row_3_col_6 = env_data[2][5]\n",
    "\n",
    "print(\"迷宫共有\", rows, \"行\", columns, \"列，第三行第六列的元素是\", row_3_col_6)"
   ]
  },
  {
   "cell_type": "markdown",
   "metadata": {
    "collapsed": true
   },
   "source": [
    "---\n",
    "\n",
    "## 1.2 分析模拟环境数据\n",
    "\n",
    "接着我们需要对模拟环境的中的数据进行分析。请根据如下的指示，计算相应的值。\n",
    "\n",
    "---\n",
    "\n",
    "**任务2：**在如下代码中，请计算模拟环境中，第一行和第三列的障碍物个数。\n",
    "\n",
    "提示：*可以用循环完成。*"
   ]
  },
  {
   "cell_type": "code",
   "execution_count": 5,
   "metadata": {},
   "outputs": [
    {
     "name": "stdout",
     "output_type": "stream",
     "text": [
      "迷宫中，第一行共有 7 个障碍物，第三列共有 3 个障碍物。\n"
     ]
    }
   ],
   "source": [
    "#TODO 4计算模拟环境中，第一行的的障碍物个数。\n",
    "number_of_barriers_row1 = None\n",
    "\n",
    "for item in env_data[0]:\n",
    "    if item == 2:\n",
    "        if number_of_barriers_row1 == None:\n",
    "            number_of_barriers_row1 = 0\n",
    "        number_of_barriers_row1 += 1\n",
    "\n",
    "#TODO 5计算模拟环境中，第三列的的障碍物个数。\n",
    "number_of_barriers_col3 = None\n",
    "for index in range(rows):\n",
    "    for i,item in enumerate(env_data[index]):\n",
    "        if i == 2 and item == 2:\n",
    "            if number_of_barriers_col3 == None:\n",
    "                number_of_barriers_col3 = 0\n",
    "            number_of_barriers_col3 += 1\n",
    "\n",
    "    \n",
    "    \n",
    "\n",
    "print(\"迷宫中，第一行共有\", number_of_barriers_row1, \"个障碍物，第三列共有\", number_of_barriers_col3, \"个障碍物。\")"
   ]
  },
  {
   "cell_type": "code",
   "execution_count": 6,
   "metadata": {},
   "outputs": [
    {
     "name": "stderr",
     "output_type": "stream",
     "text": [
      ".\n",
      "----------------------------------------------------------------------\n",
      "Ran 1 test in 0.001s\n",
      "\n",
      "OK\n"
     ]
    }
   ],
   "source": [
    "%run -i -e test.py RobotControllortTestCase.test_cal_barriers"
   ]
  },
  {
   "cell_type": "markdown",
   "metadata": {},
   "source": [
    "---\n",
    "\n",
    "**任务3：**在如下代码中：\n",
    "\n",
    "1. 创建一个名为 `loc_map` 的字典，它有两个键值，分别为 `start` 和 `destination`，对应的值分别为起点和目标点的坐标，它们以如 `(0,0)` 的形式保存为元组。\n",
    "2. 从字典中取出 `start` 对应的值，保存在 `robot_current_loc` 对应的变量中，这个变量表示小车现在的位置。"
   ]
  },
  {
   "cell_type": "code",
   "execution_count": 13,
   "metadata": {},
   "outputs": [],
   "source": [
    "loc_map = {} #TODO 6按照上述要求创建字典\n",
    "loc_map['start'] = (0,8)\n",
    "loc_map['destination'] = (0,0)\n",
    "\n",
    "robot_current_loc = None #TODO 7保存机器人当前的位置\n",
    "robot_current_loc = loc_map['start']"
   ]
  },
  {
   "cell_type": "code",
   "execution_count": 14,
   "metadata": {},
   "outputs": [
    {
     "name": "stderr",
     "output_type": "stream",
     "text": [
      ".\n",
      "----------------------------------------------------------------------\n",
      "Ran 1 test in 0.001s\n",
      "\n",
      "OK\n"
     ]
    }
   ],
   "source": [
    "%run -i -e test.py RobotControllortTestCase.test_cal_loc_map"
   ]
  },
  {
   "cell_type": "markdown",
   "metadata": {},
   "source": [
    "\n",
    "---\n",
    "\n",
    "---\n",
    "\n",
    "## 第二节 控制机器人随机漫步\n",
    "\n",
    "在这一步中，你需发出指令，控制机器人在环境中随机行动。它会考察你对控制流、调用函数的知识。"
   ]
  },
  {
   "cell_type": "markdown",
   "metadata": {},
   "source": [
    "\n",
    "\n",
    "## 2.1 控制机器人行动\n",
    "\n",
    "我们的机器人能够执行四个动作：向上走 `u`、向下走 `d`、向左走 `l`、向右走 `r`。但是，由于有障碍，很多时候机器人的行动并不能成功。所以在这里，你需要实现一个函数，来判断机器人在某个位置，执行某个移动动作是否可行。\n",
    "\n",
    "---\n",
    "\n",
    "**任务4：**在下方代码中，实现名为 `is_move_valid_special` 的函数，它有两个输入，分别为机器人所在的位置坐标 `loc`，以及即将执行的动作 `act`，如 `(1,1)` 及 `u`。接着它的返回是一个布尔值，表明小车在 `loc` 位置下，是否可以执行动作 `act`。\n",
    "\n",
    "\n",
    "提示1：*可以读取上方定义的 `env_data` 变量，来读取模拟环境的数据。*\n",
    "\n",
    "提示2：*在实现函数后，请删去下方的 `pass` 代码。*\n",
    "\n",
    "提示3：*我们需要处理边界的情况，即机器人走到了虚拟环境边界时，是不能够走出虚拟环境的。*"
   ]
  },
  {
   "cell_type": "code",
   "execution_count": 40,
   "metadata": {},
   "outputs": [],
   "source": [
    "def is_move_valid_special(loc, act):\n",
    "    \"\"\"\n",
    "    Judge wether the robot can take action act\n",
    "    at location loc.\n",
    "\n",
    "    Keyword arguments:\n",
    "    loc -- tuple, robots current location\n",
    "    act -- string, robots meant action\n",
    "    \"\"\"\n",
    "    \n",
    "    row_loc = loc[0] # 当前位置行号\n",
    "    col_loc = loc[1] # 当前位置列号\n",
    "\n",
    "    #TODO 8\n",
    "    if act == 'u':\n",
    "            if (row_loc - 1 >= 0) and (env_data[row_loc -1][col_loc] != 2):\n",
    "                return True\n",
    "            else:\n",
    "                return False     \n",
    "    elif act == 'd':\n",
    "         if (row_loc + 1 <= len(env_data) - 1) and (env_data[row_loc + 1][col_loc] != 2):\n",
    "             return True\n",
    "         else:\n",
    "             return False\n",
    "    elif act == 'l':\n",
    "         if (col_loc - 1 >= 0) and (env_data[row_loc][col_loc - 1] != 2):\n",
    "             return True\n",
    "         else:\n",
    "             return False\n",
    "    elif act == 'r':\n",
    "         if col_loc + 1 <= len(env_data[0]) - 1 and (env_data[row_loc][col_loc + 1] != 2):\n",
    "             return True\n",
    "         else:\n",
    "             return False\n",
    "    else:\n",
    "         return False\n",
    "\n",
    "# print(is_move_valid_special((0,0), 'r'))"
   ]
  },
  {
   "cell_type": "code",
   "execution_count": 41,
   "metadata": {},
   "outputs": [
    {
     "name": "stderr",
     "output_type": "stream",
     "text": [
      ".\n",
      "----------------------------------------------------------------------\n",
      "Ran 1 test in 0.001s\n",
      "\n",
      "OK\n"
     ]
    }
   ],
   "source": [
    "%run -i -e test.py RobotControllortTestCase.test_is_move_valid_special"
   ]
  },
  {
   "cell_type": "markdown",
   "metadata": {},
   "source": [
    "---\n",
    "**任务5：**在下方代码中，重新实现一个名为 `is_move_valid` 的函数，它有三个输入，分别为模拟环境的数据 `env_data`、机器人所在的位置坐标 `loc`、以及即将执行的动作 `act`。它的返回值与此前一样，是一个布尔值，表明小车在给定的虚拟环境中的 `loc` 位置下，是否可以执行动作 `act`。"
   ]
  },
  {
   "cell_type": "code",
   "execution_count": 43,
   "metadata": {},
   "outputs": [],
   "source": [
    "def is_move_valid(env_data, loc, act):\n",
    "    \"\"\"\n",
    "    Judge wether the robot can take action act\n",
    "    at location loc.\n",
    "    \n",
    "    Keyword arguments:\n",
    "    env -- list, the environment data\n",
    "    loc -- tuple, robots current location\n",
    "    act -- string, robots meant action\n",
    "    \"\"\"\n",
    "    row_loc = loc[0] \n",
    "    col_loc = loc[1] \n",
    "\n",
    "    #TODO 9\n",
    "    if act == 'u':\n",
    "            if (row_loc - 1 >= 0) and (env_data[row_loc -1][col_loc] != 2):\n",
    "                return True\n",
    "            else:\n",
    "                return False     \n",
    "    elif act == 'd':\n",
    "         if (row_loc + 1 <= len(env_data) - 1) and (env_data[row_loc + 1][col_loc] != 2):\n",
    "             return True\n",
    "         else:\n",
    "             return False\n",
    "    elif act == 'l':\n",
    "         if (col_loc - 1 >= 0) and (env_data[row_loc][col_loc - 1] != 2):\n",
    "             return True\n",
    "         else:\n",
    "             return False\n",
    "    elif act == 'r':\n",
    "         if col_loc + 1 <= len(env_data[0]) - 1 and (env_data[row_loc][col_loc + 1] != 2):\n",
    "             return True\n",
    "         else:\n",
    "             return False\n",
    "    else:\n",
    "         return False"
   ]
  },
  {
   "cell_type": "code",
   "execution_count": 44,
   "metadata": {},
   "outputs": [
    {
     "name": "stderr",
     "output_type": "stream",
     "text": [
      ".\n",
      "----------------------------------------------------------------------\n",
      "Ran 1 test in 0.001s\n",
      "\n",
      "OK\n"
     ]
    }
   ],
   "source": [
    "%run -i -e test.py RobotControllortTestCase.test_is_move_valid"
   ]
  },
  {
   "cell_type": "markdown",
   "metadata": {},
   "source": [
    "---\n",
    "\n",
    "**任务6：**请回答：\n",
    "  1. 在任务4及任务5中的实现的两个函数中，`env_data` 这个变量有什么不同？\n",
    "  2. 调用``is_move_valid``函数，参数为``env_data_``、``loc_``、``act_``，如果在函数内修改``env_data``是否会改变``env_data_``的值？为什么？\n",
    "  \n",
    "提示：_可以尝试从变量作用域的角度回答该问题1。_\n",
    "\n",
    "\n",
    "提示：_可以尝试从可变类型变量和不可变类型变量的角度回答该问题2。_\n",
    "\n"
   ]
  },
  {
   "cell_type": "markdown",
   "metadata": {},
   "source": [
    "**回答：** \n",
    "任务4的变量env_data为全局变量，可以在函数内部使用，但函数is_move_valid_special无法改变其值；而任务5的变量env_data为函数is_move_valid的形参，作用域只能在函数内部使用，而不会影响全局变量env_data的值，两者同名但不一样，函数调用完毕后形参便不会存在，而全局变量的值也不会改变。\n"
   ]
  },
  {
   "cell_type": "markdown",
   "metadata": {},
   "source": [
    "---\n",
    "\n",
    "## 2.2 机器人可行动作\n",
    "\n",
    "---\n",
    "\n",
    "**任务7：**编写一个名为 `valid_actions` 的函数。它有两个输入，分别为虚拟环境的数据 `env_data`，以及机器人所在的位置 `loc`，输出是一个列表，表明机器人在这个位置所有的可行动作。\n",
    "\n",
    "提示：*可以尝试调用上方定义的`is_move_valid`函数。*\n"
   ]
  },
  {
   "cell_type": "code",
   "execution_count": 46,
   "metadata": {},
   "outputs": [],
   "source": [
    "## TODO 10 从头定义、实现你的函数\n",
    "def valid_actions(env_data, loc):\n",
    "    \"\"\"\n",
    "    Judge wether the robot can take action act\n",
    "    at location loc.\n",
    "    \n",
    "    Keyword arguments:\n",
    "    env_data -- list, the environment data\n",
    "    loc -- tuple, robots current location\n",
    "    \"\"\"\n",
    "    \n",
    "    acts = [] # 可移动的位置\n",
    "    all_acts = ['u','d','l','r']\n",
    "    \n",
    "    for act in all_acts:\n",
    "        is_move = is_move_valid(env_data, loc, act)\n",
    "        if is_move == True:\n",
    "            acts.append(act)\n",
    "            \n",
    "    \n",
    "    return acts"
   ]
  },
  {
   "cell_type": "code",
   "execution_count": 47,
   "metadata": {},
   "outputs": [
    {
     "name": "stderr",
     "output_type": "stream",
     "text": [
      ".\n",
      "----------------------------------------------------------------------\n",
      "Ran 1 test in 0.001s\n",
      "\n",
      "OK\n"
     ]
    }
   ],
   "source": [
    "%run -i -e test.py RobotControllortTestCase.test_valid_actions"
   ]
  },
  {
   "cell_type": "markdown",
   "metadata": {},
   "source": [
    "---\n",
    "\n",
    "## 2.3 移动机器人\n",
    "\n",
    "当机器人收到一个动作的时候，你机器人的位置应发生相应的变化。\n",
    "\n",
    "**任务8：**编写一个名为 `move_robot` 的函数，它有两个输入，分别为机器人当前所在的位置 `loc` 和即将执行的动作 `act`。接着会返回机器人执行动作之后的新位置 `new_loc`。"
   ]
  },
  {
   "cell_type": "code",
   "execution_count": 51,
   "metadata": {},
   "outputs": [],
   "source": [
    "##TODO 11 从头定义、实现你的函数\n",
    "def move_robot(loc, act):\n",
    "    \"\"\"\n",
    "    move robot\n",
    "    \n",
    "    Keyword arguments:\n",
    "    act -- list, the environment data\n",
    "    loc -- tuple, robots current location\n",
    "    \"\"\"\n",
    "    \n",
    "    # 新的位置\n",
    "    new_loc = () \n",
    "    \n",
    "    row_loc = loc[0]\n",
    "    col_loc = loc[1]\n",
    "    \n",
    "    if act == 'u':\n",
    "        new_loc = (row_loc - 1, col_loc)\n",
    "    elif act == 'd':\n",
    "        new_loc = (row_loc + 1, col_loc)\n",
    "    elif act == 'l':\n",
    "        new_loc = (row_loc, col_loc - 1)\n",
    "    elif act == 'r':\n",
    "        new_loc = (row_loc, col_loc + 1)\n",
    "\n",
    "    \n",
    "    return new_loc\n",
    "    "
   ]
  },
  {
   "cell_type": "code",
   "execution_count": 52,
   "metadata": {},
   "outputs": [
    {
     "name": "stderr",
     "output_type": "stream",
     "text": [
      ".\n",
      "----------------------------------------------------------------------\n",
      "Ran 1 test in 0.001s\n",
      "\n",
      "OK\n"
     ]
    }
   ],
   "source": [
    "%run -i -e test.py RobotControllortTestCase.test_move_robot"
   ]
  },
  {
   "cell_type": "markdown",
   "metadata": {},
   "source": [
    "---\n",
    "\n",
    "## 2.4 随机移动机器人\n",
    "\n",
    "接着，我们尝试在虚拟环境中随机移动机器人，看看会有什么效果。\n",
    "\n",
    "**任务9：**编写一个名为 `random_choose_actions` 的函数，它有两个输入，分别为虚拟环境的数据 `env_data`，以及机器人所在的位置 `loc`。机器人会执行一个300次的循环，每次循环，他会执行以下任务：\n",
    "\n",
    "1. 利用上方定义的 `valid_actions` 函数，找出当前位置下，机器人可行的动作；\n",
    "2. 利用 `random` 库中的 `choice` 函数，从机器人可行的动作中，随机挑选出一个动作；\n",
    "3. 接着根据这个动作，利用上方定义的 `move_robot` 函数，来移动机器人，并更新机器人的位置；\n",
    "4. 当机器人走到终点时，输出“在第n个回合找到宝藏！”。\n",
    "\n",
    "提示：如果机器人无法在300个回合内找到宝藏的话，试试看增大这个数字，也许会有不错的效果 :P"
   ]
  },
  {
   "cell_type": "code",
   "execution_count": 64,
   "metadata": {},
   "outputs": [],
   "source": [
    "##TODO 12 从头实现你的函数\n",
    "import random\n",
    "def random_choose_actions(env_data, robot_current_loc):\n",
    "    for i in range(300):\n",
    "        print(\"第{}个回合...\".format(i))\n",
    "        acts = valid_actions(env_data, robot_current_loc)\n",
    "        act = random.choice(acts)\n",
    "        is_move = is_move_valid(env_data, robot_current_loc, act)\n",
    "        if is_move == True:\n",
    "            new_loc = move_robot(robot_current_loc, act)\n",
    "            robot_current_loc = new_loc\n",
    "            if env_data[new_loc[0]][new_loc[1]] == 3:\n",
    "                print(\"在第{}个回合找到宝藏！\".format(i))\n",
    "                \n",
    "        "
   ]
  },
  {
   "cell_type": "code",
   "execution_count": 65,
   "metadata": {},
   "outputs": [
    {
     "name": "stdout",
     "output_type": "stream",
     "text": [
      "第0个回合...\n",
      "第1个回合...\n",
      "第2个回合...\n",
      "第3个回合...\n",
      "第4个回合...\n",
      "第5个回合...\n",
      "第6个回合...\n",
      "第7个回合...\n",
      "第8个回合...\n",
      "第9个回合...\n",
      "第10个回合...\n",
      "第11个回合...\n",
      "第12个回合...\n",
      "第13个回合...\n",
      "第14个回合...\n",
      "第15个回合...\n",
      "第16个回合...\n",
      "第17个回合...\n",
      "第18个回合...\n",
      "第19个回合...\n",
      "第20个回合...\n",
      "第21个回合...\n",
      "第22个回合...\n",
      "第23个回合...\n",
      "第24个回合...\n",
      "第25个回合...\n",
      "第26个回合...\n",
      "第27个回合...\n",
      "第28个回合...\n",
      "第29个回合...\n",
      "第30个回合...\n",
      "第31个回合...\n",
      "第32个回合...\n",
      "第33个回合...\n",
      "第34个回合...\n",
      "第35个回合...\n",
      "第36个回合...\n",
      "第37个回合...\n",
      "第38个回合...\n",
      "第39个回合...\n",
      "第40个回合...\n",
      "第41个回合...\n",
      "第42个回合...\n",
      "第43个回合...\n",
      "第44个回合...\n",
      "第45个回合...\n",
      "第46个回合...\n",
      "第47个回合...\n",
      "第48个回合...\n",
      "第49个回合...\n",
      "第50个回合...\n",
      "第51个回合...\n",
      "第52个回合...\n",
      "第53个回合...\n",
      "第54个回合...\n",
      "第55个回合...\n",
      "第56个回合...\n",
      "第57个回合...\n",
      "第58个回合...\n",
      "第59个回合...\n",
      "第60个回合...\n",
      "第61个回合...\n",
      "第62个回合...\n",
      "第63个回合...\n",
      "第64个回合...\n",
      "第65个回合...\n",
      "第66个回合...\n",
      "第67个回合...\n",
      "第68个回合...\n",
      "第69个回合...\n",
      "第70个回合...\n",
      "第71个回合...\n",
      "第72个回合...\n",
      "第73个回合...\n",
      "第74个回合...\n",
      "第75个回合...\n",
      "第76个回合...\n",
      "第77个回合...\n",
      "第78个回合...\n",
      "第79个回合...\n",
      "第80个回合...\n",
      "第81个回合...\n",
      "第82个回合...\n",
      "第83个回合...\n",
      "第84个回合...\n",
      "第85个回合...\n",
      "第86个回合...\n",
      "第87个回合...\n",
      "第88个回合...\n",
      "第89个回合...\n",
      "第90个回合...\n",
      "第91个回合...\n",
      "第92个回合...\n",
      "第93个回合...\n",
      "第94个回合...\n",
      "第95个回合...\n",
      "第96个回合...\n",
      "第97个回合...\n",
      "第98个回合...\n",
      "第99个回合...\n",
      "第100个回合...\n",
      "第101个回合...\n",
      "第102个回合...\n",
      "第103个回合...\n",
      "第104个回合...\n",
      "第105个回合...\n",
      "第106个回合...\n",
      "第107个回合...\n",
      "第108个回合...\n",
      "第109个回合...\n",
      "第110个回合...\n",
      "第111个回合...\n",
      "第112个回合...\n",
      "第113个回合...\n",
      "第114个回合...\n",
      "第115个回合...\n",
      "第116个回合...\n",
      "第117个回合...\n",
      "第118个回合...\n",
      "第119个回合...\n",
      "第120个回合...\n",
      "第121个回合...\n",
      "第122个回合...\n",
      "第123个回合...\n",
      "第124个回合...\n",
      "第125个回合...\n",
      "第126个回合...\n",
      "第127个回合...\n",
      "第128个回合...\n",
      "第129个回合...\n",
      "第130个回合...\n",
      "第131个回合...\n",
      "第132个回合...\n",
      "第133个回合...\n",
      "第134个回合...\n",
      "第135个回合...\n",
      "第136个回合...\n",
      "第137个回合...\n",
      "第138个回合...\n",
      "第139个回合...\n",
      "第140个回合...\n",
      "第141个回合...\n",
      "第142个回合...\n",
      "第143个回合...\n",
      "第144个回合...\n",
      "第145个回合...\n",
      "第146个回合...\n",
      "第147个回合...\n",
      "第148个回合...\n",
      "第149个回合...\n",
      "第150个回合...\n",
      "第151个回合...\n",
      "第152个回合...\n",
      "第153个回合...\n",
      "第154个回合...\n",
      "第155个回合...\n",
      "第156个回合...\n",
      "第157个回合...\n",
      "第158个回合...\n",
      "第159个回合...\n",
      "第160个回合...\n",
      "第161个回合...\n",
      "第162个回合...\n",
      "第163个回合...\n",
      "第164个回合...\n",
      "第165个回合...\n",
      "第166个回合...\n",
      "第167个回合...\n",
      "第168个回合...\n",
      "第169个回合...\n",
      "第170个回合...\n",
      "第171个回合...\n",
      "第172个回合...\n",
      "第173个回合...\n",
      "第174个回合...\n",
      "第175个回合...\n",
      "第176个回合...\n",
      "第177个回合...\n",
      "第178个回合...\n",
      "第179个回合...\n",
      "第180个回合...\n",
      "第181个回合...\n",
      "第182个回合...\n",
      "第183个回合...\n",
      "第184个回合...\n",
      "第185个回合...\n",
      "第186个回合...\n",
      "第187个回合...\n",
      "第188个回合...\n",
      "第189个回合...\n",
      "第190个回合...\n",
      "第191个回合...\n",
      "第192个回合...\n",
      "第193个回合...\n",
      "第194个回合...\n",
      "第195个回合...\n",
      "第196个回合...\n",
      "第197个回合...\n",
      "第198个回合...\n",
      "第199个回合...\n",
      "第200个回合...\n",
      "第201个回合...\n",
      "第202个回合...\n",
      "第203个回合...\n",
      "第204个回合...\n",
      "第205个回合...\n",
      "第206个回合...\n",
      "第207个回合...\n",
      "在第207个回合找到宝藏！\n",
      "第208个回合...\n",
      "第209个回合...\n",
      "在第209个回合找到宝藏！\n",
      "第210个回合...\n",
      "第211个回合...\n",
      "在第211个回合找到宝藏！\n",
      "第212个回合...\n",
      "第213个回合...\n",
      "在第213个回合找到宝藏！\n",
      "第214个回合...\n",
      "第215个回合...\n",
      "在第215个回合找到宝藏！\n",
      "第216个回合...\n",
      "第217个回合...\n",
      "第218个回合...\n",
      "第219个回合...\n",
      "第220个回合...\n",
      "第221个回合...\n",
      "第222个回合...\n",
      "第223个回合...\n",
      "第224个回合...\n",
      "第225个回合...\n",
      "在第225个回合找到宝藏！\n",
      "第226个回合...\n",
      "第227个回合...\n",
      "在第227个回合找到宝藏！\n",
      "第228个回合...\n",
      "第229个回合...\n",
      "第230个回合...\n",
      "第231个回合...\n",
      "第232个回合...\n",
      "第233个回合...\n",
      "第234个回合...\n",
      "第235个回合...\n",
      "第236个回合...\n",
      "第237个回合...\n",
      "第238个回合...\n",
      "第239个回合...\n",
      "第240个回合...\n",
      "第241个回合...\n",
      "第242个回合...\n",
      "第243个回合...\n",
      "第244个回合...\n",
      "第245个回合...\n",
      "第246个回合...\n",
      "第247个回合...\n",
      "第248个回合...\n",
      "第249个回合...\n",
      "第250个回合...\n",
      "第251个回合...\n",
      "第252个回合...\n",
      "第253个回合...\n",
      "第254个回合...\n",
      "第255个回合...\n",
      "第256个回合...\n",
      "第257个回合...\n",
      "第258个回合...\n",
      "第259个回合...\n",
      "第260个回合...\n",
      "第261个回合...\n",
      "第262个回合...\n",
      "第263个回合...\n",
      "第264个回合...\n",
      "第265个回合...\n",
      "第266个回合...\n",
      "第267个回合...\n",
      "第268个回合...\n",
      "第269个回合...\n",
      "第270个回合...\n",
      "第271个回合...\n",
      "第272个回合...\n",
      "第273个回合...\n",
      "第274个回合...\n",
      "第275个回合...\n",
      "第276个回合...\n",
      "第277个回合...\n",
      "第278个回合...\n",
      "第279个回合...\n",
      "第280个回合...\n",
      "第281个回合...\n",
      "第282个回合...\n",
      "第283个回合...\n",
      "第284个回合...\n",
      "第285个回合...\n",
      "第286个回合...\n",
      "第287个回合...\n",
      "第288个回合...\n",
      "第289个回合...\n",
      "第290个回合...\n",
      "第291个回合...\n",
      "第292个回合...\n",
      "第293个回合...\n",
      "第294个回合...\n",
      "第295个回合...\n",
      "第296个回合...\n",
      "第297个回合...\n",
      "第298个回合...\n",
      "第299个回合...\n"
     ]
    }
   ],
   "source": [
    "# 运行\n",
    "random_choose_actions(env_data, robot_current_loc)"
   ]
  },
  {
   "cell_type": "markdown",
   "metadata": {},
   "source": [
    "\n",
    "---\n",
    "\n",
    "---\n",
    "\n",
    "## （可选）第三节 控制机器人走到终点\n",
    "\n",
    "## 3.1 控制机器人走到终点\n",
    "\n",
    "在这里，你将综合上述的知识，编码控制机器人走到终点。这个任务对刚刚入门的你来说可能有些挑战，所以它是一个选做题。\n",
    "\n",
    "**任务10**：尝试实现一个算法，能够对给定的模拟环境，输出机器人的行动策略，使之能够走到终点。\n",
    "\n",
    "提示：_你可以尝试参考：_\n",
    "* 深度/广度优先算法。\n",
    "    以及以下参考资料：\n",
    "    1. https://blog.csdn.net/raphealguo/article/details/7523411 \n",
    "    2. https://www.cnblogs.com/yupeng/p/3414736.html \n",
    "* A星算法。\n",
    "    以及以下参考资料：\n",
    "    1. https://baike.baidu.com/item/A%2A算法 \n",
    "    2. https://blog.csdn.net/hitwhylz/article/details/23089415"
   ]
  },
  {
   "cell_type": "code",
   "execution_count": null,
   "metadata": {},
   "outputs": [],
   "source": [
    "##TODO 13 实现你的算法"
   ]
  },
  {
   "cell_type": "markdown",
   "metadata": {},
   "source": [
    "> 注意: 当你写完了所有的代码，并且回答了所有的问题。你就可以把你的 iPython Notebook 导出成 HTML 文件。你可以在菜单栏，这样导出**File -> Download as -> HTML (.html)**把这个 HTML 和这个 iPython notebook 一起做为你的作业提交。"
   ]
  }
 ],
 "metadata": {
  "kernelspec": {
   "display_name": "Python 3",
   "language": "python",
   "name": "python3"
  },
  "language_info": {
   "codemirror_mode": {
    "name": "ipython",
    "version": 3
   },
   "file_extension": ".py",
   "mimetype": "text/x-python",
   "name": "python",
   "nbconvert_exporter": "python",
   "pygments_lexer": "ipython3",
   "version": "3.7.0"
  }
 },
 "nbformat": 4,
 "nbformat_minor": 2
}
